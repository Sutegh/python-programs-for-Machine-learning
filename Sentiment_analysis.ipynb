{
  "nbformat": 4,
  "nbformat_minor": 0,
  "metadata": {
    "colab": {
      "provenance": [],
      "authorship_tag": "ABX9TyNdHHKbOhkzx8h1wnlX8sAz"
    },
    "kernelspec": {
      "name": "python3",
      "display_name": "Python 3"
    },
    "language_info": {
      "name": "python"
    }
  },
  "cells": [
    {
      "cell_type": "code",
      "execution_count": null,
      "metadata": {
        "id": "sKzBLTRd1GDS"
      },
      "outputs": [],
      "source": [
        "from nltk.sentiment.vader import SentimentIntensityAnalyzer\n",
        "import nltk\n",
        "nltk.download('vader_lexicon')"
      ]
    },
    {
      "cell_type": "code",
      "source": [
        "user_input = input(\"Please Rate Our Services >>: \")\n",
        "sid = SentimentIntensityAnalyzer()\n",
        "score = sid.polarity_scores(user_input)\n",
        "print(score)"
      ],
      "metadata": {
        "id": "98VsaQ4A8of-"
      },
      "execution_count": null,
      "outputs": []
    },
    {
      "cell_type": "code",
      "source": [
        "user_input = input(\"Please Rate Our Services >>: \")\n",
        "sid = SentimentIntensityAnalyzer()\n",
        "score = sid.polarity_scores(user_input)\n",
        "if score[\"neg\"] != 0:\n",
        "      print(\"Negative\")\n",
        "else:\n",
        "      print(\"Positive\")"
      ],
      "metadata": {
        "id": "SjmzkpJ-9a66"
      },
      "execution_count": null,
      "outputs": []
    }
  ]
}